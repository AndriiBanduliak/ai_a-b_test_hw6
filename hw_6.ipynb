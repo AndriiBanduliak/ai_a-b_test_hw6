{
  "nbformat": 4,
  "nbformat_minor": 0,
  "metadata": {
    "colab": {
      "provenance": []
    },
    "kernelspec": {
      "name": "python3",
      "display_name": "Python 3"
    },
    "language_info": {
      "name": "python"
    }
  },
  "cells": [
    {
      "cell_type": "markdown",
      "source": [
        "# 1\n",
        "## Продакт на главной mail.ru решил протестировать в рекомендательной ленте контента вместо карточек со статьями видеоплеер с короткими видео. Нынешний таймспент на юзера в день в среднем равен 25 минут, а стандартная ошибка (SD) равна 156. Мы предполагаем, что в новой версии таймспент на юзера в день изменится на 10%. Средний трафик 20000 человек в день. Посчитайте сколько дней необходимо держать эксперимент при alpha = 5% и beta = 20% ."
      ],
      "metadata": {
        "id": "pZU4Roe5FaRS"
      }
    },
    {
      "cell_type": "code",
      "source": [
        "import math\n",
        "from scipy import stats"
      ],
      "metadata": {
        "id": "RjUR4RUYGy28"
      },
      "execution_count": 5,
      "outputs": []
    },
    {
      "cell_type": "code",
      "execution_count": 4,
      "metadata": {
        "colab": {
          "base_uri": "https://localhost:8080/"
        },
        "id": "LuuX_qg-FZUY",
        "outputId": "b8517a5e-5e0c-426d-bd9f-db8c844a06a9"
      },
      "outputs": [
        {
          "output_type": "stream",
          "name": "stdout",
          "text": [
            "3.05\n"
          ]
        }
      ],
      "source": [
        "\n",
        "alpha = 0.05\n",
        "beta = 0.2\n",
        "sd = 156\n",
        "effect_size = 0.1 * 25\n",
        "z_alpha_2 = abs(round(stats.norm.ppf(alpha/2), 2))\n",
        "z_beta = abs(round(stats.norm.ppf(beta), 2))\n",
        "traffic_per_day = 20000\n",
        "\n",
        "n = ((z_alpha_2 + z_beta)**2 * sd**2) / effect_size**2\n",
        "n = math.ceil(n) # округляем до целого в большую сторону\n",
        "\n",
        "duration = n / (traffic_per_day / 2) # делим на 2, так как у нас 2 группы\n",
        "print(round(duration, 2))"
      ]
    },
    {
      "cell_type": "markdown",
      "source": [
        "# 2\n",
        "## Наша продуктовая команда в ecommerce магазине планирует запустить тест, направленный на ускорение загрузки сайта. Одна из основных метрик bounce rate в GA = 40%. Мы предполагаем, что при оптимизации сайта она изменится минимум на 20%.Средний трафик 4000 человек в день. Посчитайте сколько нам нужно дней держать эксперимент при alpha = 5% и beta = 20%"
      ],
      "metadata": {
        "id": "799g-Gz_Fx0C"
      }
    },
    {
      "cell_type": "code",
      "source": [
        "alpha = 0.05\n",
        "beta = 0.2\n",
        "p = 0.4\n",
        "d = 0.2 * 0.4\n",
        "z_alpha_2 = abs(round(stats.norm.ppf(alpha/2), 2))\n",
        "z_beta = abs(round(stats.norm.ppf(beta), 2))\n",
        "traffic_per_day = 4000\n",
        "\n",
        "n = ((z_alpha_2 + z_beta)**2 * p*(1-p)) / d**2\n",
        "n = math.ceil(n) # округляем до целого в большую сторону\n",
        "\n",
        "duration = n / traffic_per_day\n",
        "print(round(duration, 2)) # выводим количество дней, округленное до 2 знаков после запятой\n"
      ],
      "metadata": {
        "colab": {
          "base_uri": "https://localhost:8080/"
        },
        "id": "R7mSHxMZGJV4",
        "outputId": "2659c9e5-4461-404d-abc1-8ca0c454eea8"
      },
      "execution_count": 6,
      "outputs": [
        {
          "output_type": "stream",
          "name": "stdout",
          "text": [
            "0.07\n"
          ]
        }
      ]
    }
  ]
}